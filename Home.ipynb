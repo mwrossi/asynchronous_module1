{
 "cells": [
  {
   "attachments": {},
   "cell_type": "markdown",
   "id": "0170d2ca-8f6a-4855-9ec8-c0b4671b37be",
   "metadata": {},
   "source": [
    "# __Module 1: Simulating the geomorphic impacts of 'extreme' rainfall events using Landlab__\n",
    "In this learning module, you will be introduced to _[Landlab](https://landlab.readthedocs.io/en/latest/)_, a Python toolkit for modeling Earth surface processes. The Landlab model library is developed and maintained by the _[Community Surface Dynamics Modeling System](https://csdms.colorado.edu/wiki/About_CSDMS)_. To introduce you to the utility of this modeling library, we tackle the question of how 'extreme' rainfall events can lead to a variety of geomorphic consequences. As the concept map below highlights, the seemingly straightforward question of how storm frequency translates into river erosion and landslide hazard requires more detailed insight into what defines rainfall events, the material properties of the surface, movement of surface and shallow subsurface water, and the erosional process of interest. This extended tutorial introduces the concept of _[Landlab components](https://landlab.readthedocs.io/en/master/reference/components/index.html)_ that enable the contruction complex numerical models from their constituent pieces."
   ]
  },
  {
   "cell_type": "markdown",
   "id": "5dffdc72-1358-4b7c-b1b6-3f9909c76d28",
   "metadata": {},
   "source": [
    "<table align=\"left\">\n",
    "    <tr>\n",
    "        <td>\n",
    "        <img src=\"resources/0.0_concept_map.png\" width=\"450\">\n",
    "        </td>\n",
    "        <td>\n",
    "        <img src=\"resources/0.0_headlines.png\" width=\"450\">\n",
    "        </td>\n",
    "    </tr>\n",
    "</table>\n",
    "\n",
    "__Figure 1:__ (_left_) Conceptual diagram showing the motivation of this module. In order to address central questions, you will be introduced to a number of _processes_ that can be broadly lie in the four quadrants in the diagram. This diagram will be used to orient you to Chapter learning objectives (both in content and coding). (_right_) Screenshots of headlines reported in the news after the geomorphically significant Colorado Front Range storm."
   ]
  },
  {
   "cell_type": "markdown",
   "id": "7450a415-a6ef-432f-a8e8-18bb4dbd6220",
   "metadata": {
    "jp-MarkdownHeadingCollapsed": true
   },
   "source": [
    "## Overview\n",
    "__[Overview](#Overview)__ &nbsp; &nbsp; [0.1 Module Structure](#0.1-Module-Structure) &nbsp; &nbsp; [0.2 Navigating Jupyter Notebooks](#0.2-Navigating-Jupyter-Notebooks) &nbsp; &nbsp; [0.3 Run first code](#0.3-Run-first-code) &nbsp; &nbsp; [Definitions](#Definitions)\n",
    "\n",
    "This module does not assume proficiency in either the science content or Python coding presented. Chapters build on each other with a variety of checkpoints to help you assess your own understanding. Each chapter is contained in a Jupyter Notebook (links below) with clearly defined learning goals so that you can tailor your pathway through these materials."
   ]
  },
  {
   "cell_type": "markdown",
   "id": "98d79513-a50f-4fcc-b332-79f025ae1535",
   "metadata": {
    "jp-MarkdownHeadingCollapsed": true
   },
   "source": [
    "## 0.1 Module Structure\n",
    "[Overview](#Overview) &nbsp; &nbsp; __[0.1 Module Structure](#0.1-Module-Structure)__ &nbsp; &nbsp; [0.2 Navigating Jupyter Notebooks](#0.2-Navigating-Jupyter-Notebooks) &nbsp; &nbsp; [0.3 Run first code](#0.3-Run-first-code) &nbsp; &nbsp; [Definitions](#Definitions)\n",
    "\n",
    "[Chapter 1](./Chapter-1.ipynb): __When it rains it pours (sometimes)__ _3-4 hours_\n",
    "><details closed>\n",
    "    <summary>1. Use tipping bucket rain gauge data to <i>analyze</i> observational data.</summary>\n",
    "    <ul><li>Load a .<i>csv</i> data file into a pandas dataframe.</li>\n",
    "    <li>Define an averaging interval to calculate rainfall rates.</li>\n",
    "    <li>Inspect and plot data using matplotlib.</li>\n",
    "    </ul>\n",
    "    </details>\n",
    "    <details closed>\n",
    "    <summary> 2. <i>Describe</i> and <i>compare</i> storm properties.</summary>\n",
    "    <ul><li>Develop criteria for identifying individual events.</li>\n",
    "    <li>Use criteria to derive average event characteristics (i.e., intensity, duration, inter-storm period).</li>\n",
    "    <li>Select different averaging intervals to examine how event properties change.</li>\n",
    "    </ul>\n",
    "    </details>\n",
    "    <details closed>\n",
    "    <summary> 3. Use Landlab component to <i>generate</i> stochastic rainfall at different averaging intervals.</summary>\n",
    "    <ul><li>Build a Landlab grid that accomodates a time-varying rainfall field.</li>\n",
    "    <li>Use parametric estimates of storm properties to build synthetic rainfall data using the <a href=\"https://landlab.readthedocs.io/en/latest/reference/components/uniform_precip.html\"><i>PrecipitationDistribution</i></a> component.</li>\n",
    "    <li>Model rainstorms at with different statistical properties.</li>\n",
    "    </ul>\n",
    "    </details>\n",
    "    <details closed>\n",
    "    <summary> 4. Use rainfall generator to <i>explain</i> how well historic events are captured by simulation.</summary>\n",
    "    <ul><li>Plot simulated data and calculate the exceedance probability of the 2016 and 2013 events.</li>\n",
    "    <li>Evaluate strengths and limitations of using rainfall generator</li>\n",
    "    </ul>\n",
    "    </details>\n",
    " \n",
    "[Chapter 2](./Chapter-2.ipynb): __From rainfall to runoff__ _3-4 hours_\n",
    "><details closed>\n",
    "    <summary>1. Use Landlab to <i>generate</i> and <i>interpret</i> a numerical model of surface water hydrology.</summary>\n",
    "    <ul><li>Create a model grid in Landlab and add fields to it.</li>\n",
    "    <li>Combine multiple Landlab components together to build a numerical model.</li>\n",
    "    <li>Save model states to visualize data using maps and graphs.</li>\n",
    "    </ul>\n",
    "    </details>\n",
    "    <details closed>\n",
    "    <summary> 2. After raining on the surface, <i>explain</i> how root zone soil moisture evolves through time.</summary>\n",
    "    <ul><li>Use the <a href=\"https://landlab.readthedocs.io/en/latest/reference/components/soil_moisture.html\"><i>SoilMoisture</i></a> component to calculate soil moisture and saturation-excess runoff.</li>\n",
    "    <li>Visualize soil water retention curves using matplotlib. </li>\n",
    "    <li>Compare the soil moisture response for two different plant functional types.</li>\n",
    "    </ul>\n",
    "    </details>\n",
    "    <details closed>\n",
    "    <summary> 3. <i>Plan</i> and <i>excecute</i> a model that couples two Landlab components.</summary>\n",
    "    <ul><li>Use the <a href=\"https://landlab.readthedocs.io/en/latest/reference/components/uniform_precip.html\"><i>PrecipitationDistribution</i></a> component as a rainfall generator in your numerical model.</li>\n",
    "    <li>Couple the hourly rainfall generator to the daily <a href=\"https://landlab.readthedocs.io/en/latest/reference/components/soil_moisture.html\"><i>SoilMoisture</i></a> component to simulate soil moisture and runoff dynamics.</li>\n",
    "    <li>Save results from model runs into a pandas dataframe to synthesize findings.</li>\n",
    "    </ul>\n",
    "    </details>\n",
    "    <details closed>\n",
    "    <summary> 4. Add topography to <i>produce</i> and <i>critique</i> a revised soil water model that also routes runoff across the surface.</summary>\n",
    "    <ul><li>Apply <a href=\"https://landlab.readthedocs.io/en/latest/reference/components/flow_director.html\"><i>FlowDirectorSteepest</i></a> using the topographic elevation field.</li>\n",
    "    <li>Accumulate surface water downstream using the <a href=\"https://landlab.readthedocs.io/en/latest/reference/components/flow_accum.html\"><i>FlowAccumulator</i></a> component as an additional source of soil moisture.</li>\n",
    "    <li>Assess the strengths and limitations of your revised model on soil moisture and surface runoff dynamics.</li>\n",
    "    </ul>\n",
    "    </details>\n",
    "\n",
    "[Chapter 3](./Chapter-3.ipynb): __But will the hillslope fail?__ _3-4 hours_\n",
    "><details closed>\n",
    "    <summary>1. Use Data Components to import topography and <i>apply</i> a model to a real-world setting.</summary>\n",
    "    <ul><li>Import topography from OpenTopography</li>\n",
    "    <li>Add relevant components from prior chapters to buils a model of hillslope stability.</li>\n",
    "    <li>Compare two hillsides with different topography and vegetation.</li>\n",
    "    </ul>\n",
    "    </details>\n",
    "    <details closed>\n",
    "    <summary> 2. Use model to <i>explain</i> how water infleunces the Factor of Safety</summary>\n",
    "    <ul><li>Use topography to calculate the dry Factor of Safety.</li>\n",
    "    <li>Use topography  and soil texture to calcuate a wet Factor of Safety.</li>\n",
    "    <li>Identify and visualize conditionally unstable parts of the landscape.</li>\n",
    "    </ul>\n",
    "    </details>\n",
    "    <details closed>\n",
    "    <summary> 3. Calculate a dynamic Factor of Safety by <i>executing</i> a dynamic model of soil moisture drive by stochastic rainfall.</summary>\n",
    "    <ul><li>Run model of soil moisture through 100 years worth of events using different rainfall forcings.</li>\n",
    "    <li>Measure the frequency of hillsope failure for different forcings.</li>\n",
    "    <li>Synthesize results into a susceptibility map.</li>\n",
    "    </ul>\n",
    "    </details>\n",
    "    <details closed>\n",
    "    <summary> 4. <i>Analyze</i> how the probability hillslope failure varies in space across a real-world watershed</summary>\n",
    "    <ul><li>Compare statistics of simulations to mass failures during 2013 event.</li>\n",
    "    <li>Assess strengths and limitations of model design.</li>\n",
    "    </ul>\n",
    "    </details>"
   ]
  },
  {
   "cell_type": "markdown",
   "id": "91f07bec-ee2a-4829-bdff-8dcfd60e5978",
   "metadata": {},
   "source": [
    "## 0.2 Navigating Jupyter Notebooks\n",
    "[Overview](#Overview) &nbsp; &nbsp; [0.1 Module Structure](#0.1-Module-Structure) &nbsp; &nbsp; __[0.2 Navigating Jupyter Notebooks](#0.2-Navigating-Jupyter-Notebooks)__ &nbsp; &nbsp; [0.3 Run first code](#0.3-Run-first-code) &nbsp; &nbsp; [Definitions](#Definitions)\n",
    "\n",
    "> Each chapter is subdivided into sections. A simple navigation bar is provided at the beginning of each section so that you can quickly jump back and forth between sections. Note the bolded item in this bar is where you are currently are.\n",
    "\n",
    "> A chapter consists of a single _[Jupyter Notebook](https://jupyter.org/)_. You've probably already noticed that italicized hyperlinks in the narrative text takes you to external websites. In contrast, bolded hyperlinks help you navigate within the Notebook itself. For example, every chapter will keep a glossary of new terms in a cell called Definitions. This is place you might check when jargon is unclear. For example, what is the difference between __[Landlab](#Definitions)__ and the __[Community Surface Dynamics Modeling System](#Definitions)__?\n",
    "\n",
    "> It worth emphasizing at the beginning, that each cell within a Notebook contains a snippet of _[Markdown](https://www.markdownguide.org/)_ text or _[Python](https://www.python.org/)_ code. While Notebooks are written in a narrative form, you can run the cells in any order you like. For code, this can be a blessing or a curse. Whenever starting over, just make sure to run re-run all the cells in sequential order.\n",
    "\n",
    "> Finally, we also use colored Markdown cells to provide 'extra' information. Namely, you will notice some Markdown cells are blue and other are orange."
   ]
  },
  {
   "cell_type": "markdown",
   "id": "ffb3e22b-6098-48d1-8c94-a59cb9fc121f",
   "metadata": {},
   "source": [
    "<div class=\"alert alert-block alert-info\">\n",
    "\n",
    "#### __Blue Cells: Extra insight and/or thought questions__\n",
    "Blue cells are used throughout the module to provide extra insight into some dataset, concept, or approach. They are also used to instigate questions that are intended to get you to pause, reflect, or consider what you have done before moving on. While you CAN simply ignore these cells, we use the blue cells to identify moments when it might be helpful to pause and reflect on what you are doing\n",
    "\n",
    "</div>\n",
    "\n",
    "<div class=\"alert alert-block alert-warning\">\n",
    "\n",
    "#### __Orange Cells: Coding challenges__\n",
    "Orange cells are used throughout the module in places where we are asking you to write some new code. In all cases, there will be an empty code cell below it where you can try to write and run some new code. We encourage you to try and figure this out on your own and always provide a helpful hint as a dropdown, if you need it. We also provide an example solution code as a dropdown if you get too frustrated. Note that there are often many different solutions to the same challenge.\n",
    "\n",
    "</div>"
   ]
  },
  {
   "cell_type": "markdown",
   "id": "833e72d3-8550-444c-9f04-e25c27ee9f19",
   "metadata": {},
   "source": [
    "## 0.3 Run first code\n",
    "[Overview](#Overview) &nbsp; &nbsp; [0.1 Module Structure](#0.1-Module-Structure) &nbsp; &nbsp; [0.2 Navigating Jupyter Notebooks](#0.2-Navigating-Jupyter-Notebooks) &nbsp; &nbsp; __[0.3 Run first code](#0.3-Run-first-code)__ &nbsp; &nbsp; [Definitions](#Definitions)\n",
    "\n",
    "Below, you can run your first snippet of Python in a code cell. Note that the '#' symbol is for comments in Python. In this simple code, you will use import a function called 'YouTubeVideo' to embed a video into your Jupyter Notebook. Watch it before moving on to Chapter 1, where you will learn more about rainstorms along the Colorado Front Range, USA."
   ]
  },
  {
   "cell_type": "code",
   "execution_count": 1,
   "id": "4a6205c6-b8f1-49c0-bacd-63b944b8743f",
   "metadata": {},
   "outputs": [
    {
     "data": {
      "image/jpeg": "[encoded data removed]",
      "text/html": [
       "\n",
       "        <iframe\n",
       "            width=\"600\"\n",
       "            height=\"337\"\n",
       "            src=\"https://www.youtube.com/embed/IHIckvWhwoo\"\n",
       "            frameborder=\"0\"\n",
       "            allowfullscreen\n",
       "            \n",
       "        ></iframe>\n",
       "        "
      ],
      "text/plain": [
       "<IPython.lib.display.YouTubeVideo at 0x21e9c702050>"
      ]
     },
     "execution_count": 1,
     "metadata": {},
     "output_type": "execute_result"
    }
   ],
   "source": [
    "# Now, let's run your first bit of code in a cell\n",
    "from IPython.display import YouTubeVideo              # import package that allows us to access YouTube videos\n",
    "\n",
    "YouTubeVideo('IHIckvWhwoo', width=600, height=337)    # show the video!"
   ]
  },
  {
   "cell_type": "markdown",
   "id": "eee58a4c-0a0b-40d4-bfb7-a545daf7bf61",
   "metadata": {},
   "source": [
    "## Definitions\n",
    "[Overview](#Overview) &nbsp; &nbsp; [0.1 Module Structure](#0.1-Module-Structure) &nbsp; &nbsp; [0.2 Navigating Jupyter Notebooks](#0.2-Navigating-Jupyter-Notebooks) &nbsp; &nbsp; [0.3 Run first code](#0.3-Run-first-code) &nbsp; &nbsp; __[Definitions](#Definitions)__\n",
    "\n",
    "__Community Surface Dynamics Modeling System (CSDMS)__:<br>\n",
    "> A community of numerical modelers at all levels of expertise. The Intregration Facility is headquartered at the University of Colorado, Boulder, with a mission focused on building software that enables collaboration, developing human and physical infrastructure, and education. For more details, see this recent _[paper](https://gmd.copernicus.org/articles/15/1413/2022/gmd-15-1413-2022.html)_.\n",
    "\n",
    "__Landlab__:<br>\n",
    "> A Python-based modeling library for numerical modeling of surface processes. For more details, see this recent _[paper](https://esurf.copernicus.org/articles/8/379/2020/)_. A product of CSDMS."
   ]
  },
  {
   "cell_type": "code",
   "execution_count": null,
   "id": "03d97a98-57bb-4f5d-9d7c-6f99c657cdf3",
   "metadata": {},
   "outputs": [],
   "source": []
  }
 ],
 "metadata": {
  "kernelspec": {
   "display_name": "Python 3 (ipykernel)",
   "language": "python",
   "name": "python3"
  },
  "language_info": {
   "codemirror_mode": {
    "name": "ipython",
    "version": 3
   },
   "file_extension": ".py",
   "mimetype": "text/x-python",
   "name": "python",
   "nbconvert_exporter": "python",
   "pygments_lexer": "ipython3",
   "version": "3.11.4"
  }
 },
 "nbformat": 4,
 "nbformat_minor": 5
}
